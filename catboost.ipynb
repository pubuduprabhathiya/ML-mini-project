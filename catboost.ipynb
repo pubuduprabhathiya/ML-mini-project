{
 "cells": [
  {
   "cell_type": "code",
   "execution_count": 1,
   "id": "166aa288",
   "metadata": {
    "_cell_guid": "b1076dfc-b9ad-4769-8c92-a6c4dae69d19",
    "_uuid": "8f2839f25d086af736a60e9eeb907d3b93b6e0e5",
    "execution": {
     "iopub.execute_input": "2023-01-16T07:09:00.651577Z",
     "iopub.status.busy": "2023-01-16T07:09:00.650620Z",
     "iopub.status.idle": "2023-01-16T07:09:01.580099Z",
     "shell.execute_reply": "2023-01-16T07:09:01.580810Z",
     "shell.execute_reply.started": "2023-01-16T07:01:05.791917Z"
    },
    "papermill": {
     "duration": 0.970659,
     "end_time": "2023-01-16T07:09:01.581248",
     "exception": false,
     "start_time": "2023-01-16T07:09:00.610589",
     "status": "completed"
    },
    "tags": []
   },
   "outputs": [
    {
     "name": "stdout",
     "output_type": "stream",
     "text": [
      "/kaggle/input/amex-default-prediction/sample_submission.csv\n",
      "/kaggle/input/amex-default-prediction/train_data.csv\n",
      "/kaggle/input/amex-default-prediction/test_data.csv\n",
      "/kaggle/input/amex-default-prediction/train_labels.csv\n",
      "/kaggle/input/amexfeather/test_data_f32.ftr\n",
      "/kaggle/input/amexfeather/train_data.ftr\n",
      "/kaggle/input/amexfeather/train_data_f32.ftr\n",
      "/kaggle/input/amexfeather/test_data.ftr\n"
     ]
    }
   ],
   "source": [
    "import numpy as np\n",
    "import pandas as pd\n",
    "import seaborn as sns\n",
    "import matplotlib.pyplot as plt\n",
    "import gc\n",
    "\n",
    "import warnings\n",
    "warnings.filterwarnings(\"ignore\")\n",
    "\n",
    "import os\n",
    "for dirname, _, filenames in os.walk('/kaggle/input'):\n",
    "    for filename in filenames:\n",
    "        print(os.path.join(dirname, filename))"
   ]
  },
  {
   "cell_type": "code",
   "execution_count": 2,
   "id": "4249b7a5",
   "metadata": {
    "execution": {
     "iopub.execute_input": "2023-01-16T07:09:01.641264Z",
     "iopub.status.busy": "2023-01-16T07:09:01.640573Z",
     "iopub.status.idle": "2023-01-16T07:09:26.878820Z",
     "shell.execute_reply": "2023-01-16T07:09:26.878001Z",
     "shell.execute_reply.started": "2023-01-16T07:01:06.685535Z"
    },
    "papermill": {
     "duration": 25.268648,
     "end_time": "2023-01-16T07:09:26.879052",
     "exception": false,
     "start_time": "2023-01-16T07:09:01.610404",
     "status": "completed"
    },
    "tags": []
   },
   "outputs": [],
   "source": [
    "train_dataset_ = pd.read_feather('../input/amexfeather/train_data.ftr')\n",
    "# Keep the latest statement features for each customer\n",
    "train_dataset = train_dataset_.groupby('customer_ID').tail(1).set_index('customer_ID', drop=True).sort_index()"
   ]
  },
  {
   "cell_type": "code",
   "execution_count": 3,
   "id": "b0cf7a02",
   "metadata": {
    "execution": {
     "iopub.execute_input": "2023-01-16T07:09:27.076526Z",
     "iopub.status.busy": "2023-01-16T07:09:27.075645Z",
     "iopub.status.idle": "2023-01-16T07:09:27.079578Z",
     "shell.execute_reply": "2023-01-16T07:09:27.080118Z",
     "shell.execute_reply.started": "2023-01-16T07:01:35.484863Z"
    },
    "papermill": {
     "duration": 0.172726,
     "end_time": "2023-01-16T07:09:27.080314",
     "exception": false,
     "start_time": "2023-01-16T07:09:26.907588",
     "status": "completed"
    },
    "tags": []
   },
   "outputs": [
    {
     "data": {
      "text/plain": [
       "21"
      ]
     },
     "execution_count": 3,
     "metadata": {},
     "output_type": "execute_result"
    }
   ],
   "source": [
    "del train_dataset_\n",
    "gc.collect()"
   ]
  },
  {
   "cell_type": "code",
   "execution_count": 4,
   "id": "9ee43a71",
   "metadata": {
    "execution": {
     "iopub.execute_input": "2023-01-16T07:09:27.144908Z",
     "iopub.status.busy": "2023-01-16T07:09:27.143837Z",
     "iopub.status.idle": "2023-01-16T07:09:27.147555Z",
     "shell.execute_reply": "2023-01-16T07:09:27.148078Z",
     "shell.execute_reply.started": "2023-01-16T07:01:35.712683Z"
    },
    "papermill": {
     "duration": 0.038297,
     "end_time": "2023-01-16T07:09:27.148266",
     "exception": false,
     "start_time": "2023-01-16T07:09:27.109969",
     "status": "completed"
    },
    "tags": []
   },
   "outputs": [
    {
     "name": "stdout",
     "output_type": "stream",
     "text": [
      "Total number of features: 1\n",
      "Total number of categorical features: 11\n",
      "Total number of continuos features: 178\n"
     ]
    }
   ],
   "source": [
    "categorical_cols = ['B_30', 'B_38', 'D_114', 'D_116', 'D_117', 'D_120', 'D_126', 'D_63', 'D_64', 'D_66', 'D_68']\n",
    "\n",
    "num_cols = [col for col in train_dataset.columns if col not in categorical_cols + [\"target\"]]\n",
    "\n",
    "print(f'Total number of features: {1}')\n",
    "print(f'Total number of categorical features: {len(categorical_cols)}')\n",
    "print(f'Total number of continuos features: {len(num_cols)}')"
   ]
  },
  {
   "cell_type": "code",
   "execution_count": 5,
   "id": "f799f64a",
   "metadata": {
    "execution": {
     "iopub.execute_input": "2023-01-16T07:09:27.213836Z",
     "iopub.status.busy": "2023-01-16T07:09:27.213071Z",
     "iopub.status.idle": "2023-01-16T07:09:27.529168Z",
     "shell.execute_reply": "2023-01-16T07:09:27.529737Z",
     "shell.execute_reply.started": "2023-01-16T07:01:35.727643Z"
    },
    "papermill": {
     "duration": 0.352771,
     "end_time": "2023-01-16T07:09:27.529928",
     "exception": false,
     "start_time": "2023-01-16T07:09:27.177157",
     "status": "completed"
    },
    "tags": []
   },
   "outputs": [],
   "source": [
    "train_dataset = train_dataset.drop(['S_2','D_66','D_42','D_49','D_73','D_76','R_9','B_29','D_87','D_88','D_106','R_26','D_108','D_110','D_111','B_39','B_42','D_132','D_134','D_135','D_136','D_137','D_138','D_142'], axis=1)"
   ]
  },
  {
   "cell_type": "code",
   "execution_count": 6,
   "id": "9286cf33",
   "metadata": {
    "execution": {
     "iopub.execute_input": "2023-01-16T07:09:27.591004Z",
     "iopub.status.busy": "2023-01-16T07:09:27.589956Z",
     "iopub.status.idle": "2023-01-16T07:09:29.218231Z",
     "shell.execute_reply": "2023-01-16T07:09:29.217236Z",
     "shell.execute_reply.started": "2023-01-16T07:01:36.027334Z"
    },
    "papermill": {
     "duration": 1.660086,
     "end_time": "2023-01-16T07:09:29.218472",
     "exception": false,
     "start_time": "2023-01-16T07:09:27.558386",
     "status": "completed"
    },
    "tags": []
   },
   "outputs": [],
   "source": [
    "selected_col = np.array(['P_2','S_3','B_2','D_41','D_43','B_3','D_44','D_45','D_46','D_48','D_50','D_53','S_7','D_56','S_9','B_6','B_8','D_52','P_3','D_54','D_55','B_13','D_59','D_61','B_15','D_62','B_16','B_17','D_77','B_19','B_20','D_69','B_22','D_70','D_72','D_74','R_7','B_25','B_26','D_78','D_79','D_80','B_27','D_81','R_12','D_82','D_105','S_27','D_83','R_14','D_84','D_86','R_20','B_33','D_89','D_91','S_22','S_23','S_24','S_25','S_26','D_102','D_103','D_104','D_107','B_37','R_27','D_109','D_112','B_40','D_113','D_115','D_118','D_119','D_121','D_122','D_123','D_124','D_125','D_128','D_129','B_41','D_130','D_131','D_133','D_139','D_140','D_141','D_143','D_144','D_145'])\n",
    "\n",
    "for col in selected_col:\n",
    "    train_dataset[col] = train_dataset[col].fillna(train_dataset[col].median())"
   ]
  },
  {
   "cell_type": "code",
   "execution_count": 7,
   "id": "f221f79a",
   "metadata": {
    "execution": {
     "iopub.execute_input": "2023-01-16T07:09:29.290212Z",
     "iopub.status.busy": "2023-01-16T07:09:29.289450Z",
     "iopub.status.idle": "2023-01-16T07:09:29.358101Z",
     "shell.execute_reply": "2023-01-16T07:09:29.357495Z",
     "shell.execute_reply.started": "2023-01-16T07:01:37.536750Z"
    },
    "papermill": {
     "duration": 0.106422,
     "end_time": "2023-01-16T07:09:29.358277",
     "exception": false,
     "start_time": "2023-01-16T07:09:29.251855",
     "status": "completed"
    },
    "tags": []
   },
   "outputs": [],
   "source": [
    "selcted_col2 = np.array(['D_68','B_30','B_38','D_64','D_114','D_116','D_117','D_120','D_126'])\n",
    "\n",
    "for col2 in selcted_col2:\n",
    "    train_dataset[col2] =  train_dataset[col2].fillna(train_dataset[col2].mode()[0])"
   ]
  },
  {
   "cell_type": "code",
   "execution_count": 8,
   "id": "96d22e96",
   "metadata": {
    "execution": {
     "iopub.execute_input": "2023-01-16T07:09:29.425593Z",
     "iopub.status.busy": "2023-01-16T07:09:29.424799Z",
     "iopub.status.idle": "2023-01-16T07:10:23.078824Z",
     "shell.execute_reply": "2023-01-16T07:10:23.077634Z",
     "shell.execute_reply.started": "2023-01-16T07:01:37.591759Z"
    },
    "papermill": {
     "duration": 53.691229,
     "end_time": "2023-01-16T07:10:23.079230",
     "exception": false,
     "start_time": "2023-01-16T07:09:29.388001",
     "status": "completed"
    },
    "tags": []
   },
   "outputs": [],
   "source": [
    "test_dataset_ = pd.read_feather('../input/amexfeather/test_data.ftr')\n",
    "# Keep the latest statement features for each customer\n",
    "test_dataset = test_dataset_.groupby('customer_ID').tail(1).set_index('customer_ID', drop=True).sort_index()"
   ]
  },
  {
   "cell_type": "code",
   "execution_count": 9,
   "id": "8e2e317f",
   "metadata": {
    "execution": {
     "iopub.execute_input": "2023-01-16T07:10:23.195536Z",
     "iopub.status.busy": "2023-01-16T07:10:23.194760Z",
     "iopub.status.idle": "2023-01-16T07:10:23.385530Z",
     "shell.execute_reply": "2023-01-16T07:10:23.386038Z",
     "shell.execute_reply.started": "2023-01-16T07:02:27.370421Z"
    },
    "papermill": {
     "duration": 0.275764,
     "end_time": "2023-01-16T07:10:23.386246",
     "exception": false,
     "start_time": "2023-01-16T07:10:23.110482",
     "status": "completed"
    },
    "tags": []
   },
   "outputs": [
    {
     "data": {
      "text/plain": [
       "21"
      ]
     },
     "execution_count": 9,
     "metadata": {},
     "output_type": "execute_result"
    }
   ],
   "source": [
    "del test_dataset_\n",
    "gc.collect()"
   ]
  },
  {
   "cell_type": "code",
   "execution_count": 10,
   "id": "9386340e",
   "metadata": {
    "execution": {
     "iopub.execute_input": "2023-01-16T07:10:23.450094Z",
     "iopub.status.busy": "2023-01-16T07:10:23.449372Z",
     "iopub.status.idle": "2023-01-16T07:10:24.345417Z",
     "shell.execute_reply": "2023-01-16T07:10:24.344790Z",
     "shell.execute_reply.started": "2023-01-16T07:02:27.536270Z"
    },
    "papermill": {
     "duration": 0.92876,
     "end_time": "2023-01-16T07:10:24.345569",
     "exception": false,
     "start_time": "2023-01-16T07:10:23.416809",
     "status": "completed"
    },
    "tags": []
   },
   "outputs": [],
   "source": [
    "test_dataset = test_dataset.drop(['S_2','D_42','D_49','D_66','D_73','D_76','R_9','B_29','D_87','D_88','D_106','R_26','D_108','D_110','D_111','B_39','B_42','D_132','D_134','D_135','D_136','D_137','D_138','D_142'], axis=1)"
   ]
  },
  {
   "cell_type": "code",
   "execution_count": 11,
   "id": "ecf2d299",
   "metadata": {
    "execution": {
     "iopub.execute_input": "2023-01-16T07:10:24.415786Z",
     "iopub.status.busy": "2023-01-16T07:10:24.414764Z",
     "iopub.status.idle": "2023-01-16T07:10:27.421171Z",
     "shell.execute_reply": "2023-01-16T07:10:27.420548Z",
     "shell.execute_reply.started": "2023-01-16T07:02:28.318127Z"
    },
    "papermill": {
     "duration": 3.045418,
     "end_time": "2023-01-16T07:10:27.421337",
     "exception": false,
     "start_time": "2023-01-16T07:10:24.375919",
     "status": "completed"
    },
    "tags": []
   },
   "outputs": [],
   "source": [
    "selected_column = np.array(['P_2','S_3','B_2','D_41','D_43','B_3','D_44','D_45','D_46','D_48','D_50','D_53','S_7','D_56','S_9','S_12','S_17','B_6','B_8','D_52','P_3','D_54','D_55','B_13','D_59','D_61','B_15','D_62','B_16','B_17','D_77','B_19','B_20','D_69','B_22','D_70','D_72','D_74','R_7','B_25','B_26','D_78','D_79','D_80','B_27','D_81','R_12','D_82','D_105','S_27','D_83','R_14','D_84','D_86','R_20','B_33','D_89','D_91','S_22','S_23','S_24','S_25','S_26','D_102','D_103','D_104','D_107','B_37','R_27','D_109','D_112','B_40','D_113','D_115','D_118','D_119','D_121','D_122','D_123','D_124','D_125','D_128','D_129','B_41','D_130','D_131','D_133','D_139','D_140','D_141','D_143','D_144','D_145'])\n",
    "\n",
    "for column in selected_column:\n",
    "    test_dataset[column] = test_dataset[column].fillna(test_dataset[column].median())"
   ]
  },
  {
   "cell_type": "code",
   "execution_count": 12,
   "id": "f9cea90c",
   "metadata": {
    "execution": {
     "iopub.execute_input": "2023-01-16T07:10:27.487068Z",
     "iopub.status.busy": "2023-01-16T07:10:27.485867Z",
     "iopub.status.idle": "2023-01-16T07:10:27.575186Z",
     "shell.execute_reply": "2023-01-16T07:10:27.574562Z",
     "shell.execute_reply.started": "2023-01-16T07:02:31.201167Z"
    },
    "papermill": {
     "duration": 0.125011,
     "end_time": "2023-01-16T07:10:27.575362",
     "exception": false,
     "start_time": "2023-01-16T07:10:27.450351",
     "status": "completed"
    },
    "tags": []
   },
   "outputs": [],
   "source": [
    "selected_column2 = np.array(['D_68','B_30','B_38','D_114','D_116','D_117','D_120','D_126'])\n",
    "\n",
    "for column2 in selected_column2:\n",
    "    test_dataset[column2] =  test_dataset[column2].fillna(test_dataset[column2].mode()[0])"
   ]
  },
  {
   "cell_type": "code",
   "execution_count": 13,
   "id": "168c83f1",
   "metadata": {
    "execution": {
     "iopub.execute_input": "2023-01-16T07:10:27.639884Z",
     "iopub.status.busy": "2023-01-16T07:10:27.638877Z",
     "iopub.status.idle": "2023-01-16T07:10:27.641329Z",
     "shell.execute_reply": "2023-01-16T07:10:27.641824Z",
     "shell.execute_reply.started": "2023-01-16T07:02:31.283715Z"
    },
    "papermill": {
     "duration": 0.037913,
     "end_time": "2023-01-16T07:10:27.642017",
     "exception": false,
     "start_time": "2023-01-16T07:10:27.604104",
     "status": "completed"
    },
    "tags": []
   },
   "outputs": [],
   "source": [
    "categorical_cols.remove('D_66')"
   ]
  },
  {
   "cell_type": "code",
   "execution_count": 14,
   "id": "610265f4",
   "metadata": {
    "execution": {
     "iopub.execute_input": "2023-01-16T07:10:27.708389Z",
     "iopub.status.busy": "2023-01-16T07:10:27.706849Z",
     "iopub.status.idle": "2023-01-16T07:10:59.044711Z",
     "shell.execute_reply": "2023-01-16T07:10:59.045247Z",
     "shell.execute_reply.started": "2023-01-16T07:02:31.289876Z"
    },
    "papermill": {
     "duration": 31.374942,
     "end_time": "2023-01-16T07:10:59.045433",
     "exception": false,
     "start_time": "2023-01-16T07:10:27.670491",
     "status": "completed"
    },
    "tags": []
   },
   "outputs": [
    {
     "data": {
      "text/plain": [
       "{'B_11',\n",
       " 'B_13',\n",
       " 'B_15',\n",
       " 'B_23',\n",
       " 'B_33',\n",
       " 'B_37',\n",
       " 'D_104',\n",
       " 'D_119',\n",
       " 'D_141',\n",
       " 'D_143',\n",
       " 'D_74',\n",
       " 'D_75',\n",
       " 'D_77',\n",
       " 'S_24',\n",
       " 'S_7'}"
      ]
     },
     "execution_count": 14,
     "metadata": {},
     "output_type": "execute_result"
    }
   ],
   "source": [
    "train_dataset_without_target = train_dataset.drop([\"target\"],axis=1)\n",
    "\n",
    "cor_matrix = train_dataset_without_target.corr()\n",
    "col_core = set()\n",
    "\n",
    "for i in range(len(cor_matrix.columns)):\n",
    "    for j in range(i):\n",
    "        if(cor_matrix.iloc[i, j] > 0.9):\n",
    "            col_name = cor_matrix.columns[i]\n",
    "            col_core.add(col_name)\n",
    "col_core"
   ]
  },
  {
   "cell_type": "code",
   "execution_count": null,
   "id": "22514771",
   "metadata": {
    "papermill": {
     "duration": 0.02833,
     "end_time": "2023-01-16T07:10:59.102732",
     "exception": false,
     "start_time": "2023-01-16T07:10:59.074402",
     "status": "completed"
    },
    "tags": []
   },
   "outputs": [],
   "source": []
  },
  {
   "cell_type": "code",
   "execution_count": 15,
   "id": "2dfb9566",
   "metadata": {
    "execution": {
     "iopub.execute_input": "2023-01-16T07:10:59.166503Z",
     "iopub.status.busy": "2023-01-16T07:10:59.165861Z",
     "iopub.status.idle": "2023-01-16T07:11:00.064561Z",
     "shell.execute_reply": "2023-01-16T07:11:00.063876Z",
     "shell.execute_reply.started": "2023-01-16T07:03:02.036526Z"
    },
    "papermill": {
     "duration": 0.933191,
     "end_time": "2023-01-16T07:11:00.064726",
     "exception": false,
     "start_time": "2023-01-16T07:10:59.131535",
     "status": "completed"
    },
    "tags": []
   },
   "outputs": [],
   "source": [
    "train_dataset = train_dataset.drop(col_core, axis=1)\n",
    "test_dataset = test_dataset.drop(col_core, axis=1)"
   ]
  },
  {
   "cell_type": "code",
   "execution_count": 16,
   "id": "cc0082a4",
   "metadata": {
    "execution": {
     "iopub.execute_input": "2023-01-16T07:11:00.129924Z",
     "iopub.status.busy": "2023-01-16T07:11:00.129152Z",
     "iopub.status.idle": "2023-01-16T07:11:00.132724Z",
     "shell.execute_reply": "2023-01-16T07:11:00.132146Z",
     "shell.execute_reply.started": "2023-01-16T07:03:02.797461Z"
    },
    "papermill": {
     "duration": 0.038865,
     "end_time": "2023-01-16T07:11:00.132899",
     "exception": false,
     "start_time": "2023-01-16T07:11:00.094034",
     "status": "completed"
    },
    "tags": []
   },
   "outputs": [],
   "source": [
    "y = train_dataset.pop('target')\n"
   ]
  },
  {
   "cell_type": "code",
   "execution_count": 17,
   "id": "f7238c88",
   "metadata": {
    "execution": {
     "iopub.execute_input": "2023-01-16T07:11:00.198787Z",
     "iopub.status.busy": "2023-01-16T07:11:00.198039Z",
     "iopub.status.idle": "2023-01-16T07:11:00.202154Z",
     "shell.execute_reply": "2023-01-16T07:11:00.202601Z",
     "shell.execute_reply.started": "2023-01-16T07:03:02.803797Z"
    },
    "papermill": {
     "duration": 0.039454,
     "end_time": "2023-01-16T07:11:00.202831",
     "exception": false,
     "start_time": "2023-01-16T07:11:00.163377",
     "status": "completed"
    },
    "tags": []
   },
   "outputs": [
    {
     "name": "stdout",
     "output_type": "stream",
     "text": [
      "X shape is = (458913, 150)\n",
      "Y shape is = (458913,)\n"
     ]
    }
   ],
   "source": [
    "print(f\"X shape is = {train_dataset.shape}\" )\n",
    "print(f\"Y shape is = {y.shape}\" )"
   ]
  },
  {
   "cell_type": "code",
   "execution_count": 18,
   "id": "c33b1d7e",
   "metadata": {
    "execution": {
     "iopub.execute_input": "2023-01-16T07:11:00.268419Z",
     "iopub.status.busy": "2023-01-16T07:11:00.267650Z",
     "iopub.status.idle": "2023-01-16T07:11:06.196909Z",
     "shell.execute_reply": "2023-01-16T07:11:06.197456Z",
     "shell.execute_reply.started": "2023-01-16T07:03:02.818906Z"
    },
    "papermill": {
     "duration": 5.965583,
     "end_time": "2023-01-16T07:11:06.197663",
     "exception": false,
     "start_time": "2023-01-16T07:11:00.232080",
     "status": "completed"
    },
    "tags": []
   },
   "outputs": [],
   "source": [
    "categorical_cols=[\"D_63\",\"D_64\",\"D_68\",\"B_30\",\"B_38\",\"D_114\",\"D_116\",\"D_117\",\"D_120\",\"D_126\"]\n",
    "for col in categorical_cols:\n",
    "    train_dataset[col] =train_dataset[col].astype(str)\n",
    "    test_dataset[col] =test_dataset[col].astype(str)"
   ]
  },
  {
   "cell_type": "code",
   "execution_count": 19,
   "id": "03e3d0d1",
   "metadata": {
    "execution": {
     "iopub.execute_input": "2023-01-16T07:11:06.265170Z",
     "iopub.status.busy": "2023-01-16T07:11:06.264466Z",
     "iopub.status.idle": "2023-01-16T07:11:06.678235Z",
     "shell.execute_reply": "2023-01-16T07:11:06.677610Z",
     "shell.execute_reply.started": "2023-01-16T07:03:08.395725Z"
    },
    "papermill": {
     "duration": 0.449846,
     "end_time": "2023-01-16T07:11:06.678386",
     "exception": false,
     "start_time": "2023-01-16T07:11:06.228540",
     "status": "completed"
    },
    "tags": []
   },
   "outputs": [],
   "source": [
    "from sklearn.model_selection import train_test_split\n",
    "from catboost import CatBoostClassifier\n",
    "from catboost import Pool, cv"
   ]
  },
  {
   "cell_type": "code",
   "execution_count": 20,
   "id": "62120cbf",
   "metadata": {
    "execution": {
     "iopub.execute_input": "2023-01-16T07:11:06.880118Z",
     "iopub.status.busy": "2023-01-16T07:11:06.879272Z",
     "iopub.status.idle": "2023-01-16T07:11:08.426595Z",
     "shell.execute_reply": "2023-01-16T07:11:08.425921Z",
     "shell.execute_reply.started": "2023-01-16T07:03:08.748570Z"
    },
    "papermill": {
     "duration": 1.718524,
     "end_time": "2023-01-16T07:11:08.426772",
     "exception": false,
     "start_time": "2023-01-16T07:11:06.708248",
     "status": "completed"
    },
    "tags": []
   },
   "outputs": [],
   "source": [
    "X_train, X_test, y_train, y_test = train_test_split( train_dataset, y, test_size=0.3, random_state=68)"
   ]
  },
  {
   "cell_type": "code",
   "execution_count": null,
   "id": "cf4bfe31",
   "metadata": {
    "papermill": {
     "duration": 0.034604,
     "end_time": "2023-01-16T07:11:08.491607",
     "exception": false,
     "start_time": "2023-01-16T07:11:08.457003",
     "status": "completed"
    },
    "tags": []
   },
   "outputs": [],
   "source": []
  },
  {
   "cell_type": "code",
   "execution_count": null,
   "id": "c3309638",
   "metadata": {
    "execution": {
     "iopub.execute_input": "2023-01-16T07:03:10.156994Z",
     "iopub.status.busy": "2023-01-16T07:03:10.156762Z",
     "iopub.status.idle": "2023-01-16T07:03:10.160964Z",
     "shell.execute_reply": "2023-01-16T07:03:10.160096Z",
     "shell.execute_reply.started": "2023-01-16T07:03:10.156961Z"
    },
    "papermill": {
     "duration": 0.029589,
     "end_time": "2023-01-16T07:11:08.551637",
     "exception": false,
     "start_time": "2023-01-16T07:11:08.522048",
     "status": "completed"
    },
    "tags": []
   },
   "outputs": [],
   "source": []
  },
  {
   "cell_type": "code",
   "execution_count": null,
   "id": "ce954b4c",
   "metadata": {
    "papermill": {
     "duration": 0.029928,
     "end_time": "2023-01-16T07:11:08.612412",
     "exception": false,
     "start_time": "2023-01-16T07:11:08.582484",
     "status": "completed"
    },
    "tags": []
   },
   "outputs": [],
   "source": []
  },
  {
   "cell_type": "code",
   "execution_count": 21,
   "id": "f83223a9",
   "metadata": {
    "execution": {
     "iopub.execute_input": "2023-01-16T07:11:08.682554Z",
     "iopub.status.busy": "2023-01-16T07:11:08.676307Z",
     "iopub.status.idle": "2023-01-16T07:11:25.533981Z",
     "shell.execute_reply": "2023-01-16T07:11:25.532807Z",
     "shell.execute_reply.started": "2023-01-16T07:03:10.162648Z"
    },
    "papermill": {
     "duration": 16.890018,
     "end_time": "2023-01-16T07:11:25.534165",
     "exception": false,
     "start_time": "2023-01-16T07:11:08.644147",
     "status": "completed"
    },
    "tags": []
   },
   "outputs": [],
   "source": [
    "train_dataset = Pool(data=X_train,\n",
    "                     label=y_train,\n",
    "                     cat_features = categorical_cols)"
   ]
  },
  {
   "cell_type": "code",
   "execution_count": 22,
   "id": "b1484b69",
   "metadata": {
    "execution": {
     "iopub.execute_input": "2023-01-16T07:11:25.596603Z",
     "iopub.status.busy": "2023-01-16T07:11:25.595888Z",
     "iopub.status.idle": "2023-01-16T07:11:25.605068Z",
     "shell.execute_reply": "2023-01-16T07:11:25.604443Z",
     "shell.execute_reply.started": "2023-01-16T07:03:26.224507Z"
    },
    "papermill": {
     "duration": 0.041553,
     "end_time": "2023-01-16T07:11:25.605230",
     "exception": false,
     "start_time": "2023-01-16T07:11:25.563677",
     "status": "completed"
    },
    "tags": []
   },
   "outputs": [],
   "source": [
    "final_model = CatBoostClassifier(verbose=100,  cat_features=categorical_cols)"
   ]
  },
  {
   "cell_type": "code",
   "execution_count": 23,
   "id": "6502c44d",
   "metadata": {
    "execution": {
     "iopub.execute_input": "2023-01-16T07:11:26.199719Z",
     "iopub.status.busy": "2023-01-16T07:11:25.667286Z",
     "iopub.status.idle": "2023-01-16T07:20:10.515037Z",
     "shell.execute_reply": "2023-01-16T07:20:10.514398Z"
    },
    "papermill": {
     "duration": 524.880079,
     "end_time": "2023-01-16T07:20:10.515284",
     "exception": false,
     "start_time": "2023-01-16T07:11:25.635205",
     "status": "completed"
    },
    "tags": []
   },
   "outputs": [
    {
     "name": "stdout",
     "output_type": "stream",
     "text": [
      "Learning rate set to 0.121157\n",
      "0:\tlearn: 0.5587618\ttotal: 666ms\tremaining: 11m 5s\n",
      "100:\tlearn: 0.2259755\ttotal: 52.4s\tremaining: 7m 46s\n",
      "200:\tlearn: 0.2178817\ttotal: 1m 43s\tremaining: 6m 51s\n",
      "300:\tlearn: 0.2122613\ttotal: 2m 33s\tremaining: 5m 57s\n",
      "400:\tlearn: 0.2076218\ttotal: 3m 23s\tremaining: 5m 4s\n",
      "500:\tlearn: 0.2031401\ttotal: 4m 13s\tremaining: 4m 12s\n",
      "600:\tlearn: 0.1987881\ttotal: 5m 2s\tremaining: 3m 21s\n",
      "700:\tlearn: 0.1945992\ttotal: 5m 51s\tremaining: 2m 30s\n",
      "800:\tlearn: 0.1905253\ttotal: 6m 41s\tremaining: 1m 39s\n",
      "900:\tlearn: 0.1865946\ttotal: 7m 30s\tremaining: 49.5s\n",
      "999:\tlearn: 0.1828702\ttotal: 8m 26s\tremaining: 0us\n"
     ]
    },
    {
     "data": {
      "text/plain": [
       "<catboost.core.CatBoostClassifier at 0x7fb7dcf441d0>"
      ]
     },
     "execution_count": 23,
     "metadata": {},
     "output_type": "execute_result"
    }
   ],
   "source": [
    "final_model.fit(X_train, y_train)"
   ]
  },
  {
   "cell_type": "code",
   "execution_count": 24,
   "id": "9964060f",
   "metadata": {
    "execution": {
     "iopub.execute_input": "2023-01-16T07:20:10.589970Z",
     "iopub.status.busy": "2023-01-16T07:20:10.589149Z",
     "iopub.status.idle": "2023-01-16T07:20:18.173422Z",
     "shell.execute_reply": "2023-01-16T07:20:18.172341Z"
    },
    "papermill": {
     "duration": 7.624025,
     "end_time": "2023-01-16T07:20:18.173602",
     "exception": false,
     "start_time": "2023-01-16T07:20:10.549577",
     "status": "completed"
    },
    "tags": []
   },
   "outputs": [],
   "source": [
    "p = final_model.predict_proba(X_test)"
   ]
  },
  {
   "cell_type": "code",
   "execution_count": 25,
   "id": "bc9f587c",
   "metadata": {
    "execution": {
     "iopub.execute_input": "2023-01-16T07:20:18.248872Z",
     "iopub.status.busy": "2023-01-16T07:20:18.248025Z",
     "iopub.status.idle": "2023-01-16T07:20:18.250996Z",
     "shell.execute_reply": "2023-01-16T07:20:18.250425Z"
    },
    "papermill": {
     "duration": 0.042936,
     "end_time": "2023-01-16T07:20:18.251157",
     "exception": false,
     "start_time": "2023-01-16T07:20:18.208221",
     "status": "completed"
    },
    "tags": []
   },
   "outputs": [],
   "source": [
    "from sklearn.metrics import roc_curve, roc_auc_score\n"
   ]
  },
  {
   "cell_type": "code",
   "execution_count": 26,
   "id": "a4ec1772",
   "metadata": {
    "execution": {
     "iopub.execute_input": "2023-01-16T07:20:18.327517Z",
     "iopub.status.busy": "2023-01-16T07:20:18.326481Z",
     "iopub.status.idle": "2023-01-16T07:20:18.329554Z",
     "shell.execute_reply": "2023-01-16T07:20:18.329059Z"
    },
    "papermill": {
     "duration": 0.043574,
     "end_time": "2023-01-16T07:20:18.329722",
     "exception": false,
     "start_time": "2023-01-16T07:20:18.286148",
     "status": "completed"
    },
    "tags": []
   },
   "outputs": [],
   "source": [
    "\n",
    "p = p[:,1].reshape(-1,1)"
   ]
  },
  {
   "cell_type": "code",
   "execution_count": 27,
   "id": "cc602666",
   "metadata": {
    "execution": {
     "iopub.execute_input": "2023-01-16T07:20:18.406679Z",
     "iopub.status.busy": "2023-01-16T07:20:18.402164Z",
     "iopub.status.idle": "2023-01-16T07:20:18.410597Z",
     "shell.execute_reply": "2023-01-16T07:20:18.411377Z"
    },
    "papermill": {
     "duration": 0.048065,
     "end_time": "2023-01-16T07:20:18.411583",
     "exception": false,
     "start_time": "2023-01-16T07:20:18.363518",
     "status": "completed"
    },
    "tags": []
   },
   "outputs": [
    {
     "data": {
      "text/plain": [
       "array([[0.00460878],\n",
       "       [0.07505394],\n",
       "       [0.00818421],\n",
       "       ...,\n",
       "       [0.88840599],\n",
       "       [0.00540275],\n",
       "       [0.00511381]])"
      ]
     },
     "execution_count": 27,
     "metadata": {},
     "output_type": "execute_result"
    }
   ],
   "source": [
    "p"
   ]
  },
  {
   "cell_type": "code",
   "execution_count": 28,
   "id": "dda459cf",
   "metadata": {
    "execution": {
     "iopub.execute_input": "2023-01-16T07:20:18.491038Z",
     "iopub.status.busy": "2023-01-16T07:20:18.490274Z",
     "iopub.status.idle": "2023-01-16T07:20:18.552381Z",
     "shell.execute_reply": "2023-01-16T07:20:18.552912Z"
    },
    "papermill": {
     "duration": 0.106149,
     "end_time": "2023-01-16T07:20:18.553098",
     "exception": false,
     "start_time": "2023-01-16T07:20:18.446949",
     "status": "completed"
    },
    "tags": []
   },
   "outputs": [
    {
     "data": {
      "text/plain": [
       "0.9585849767127373"
      ]
     },
     "execution_count": 28,
     "metadata": {},
     "output_type": "execute_result"
    }
   ],
   "source": [
    "roc_auc_score(y_test, p)"
   ]
  },
  {
   "cell_type": "code",
   "execution_count": 29,
   "id": "7b7db8d3",
   "metadata": {
    "execution": {
     "iopub.execute_input": "2023-01-16T07:20:18.627639Z",
     "iopub.status.busy": "2023-01-16T07:20:18.626596Z",
     "iopub.status.idle": "2023-01-16T07:20:18.641602Z",
     "shell.execute_reply": "2023-01-16T07:20:18.642194Z"
    },
    "papermill": {
     "duration": 0.05377,
     "end_time": "2023-01-16T07:20:18.642391",
     "exception": false,
     "start_time": "2023-01-16T07:20:18.588621",
     "status": "completed"
    },
    "tags": []
   },
   "outputs": [],
   "source": [
    "#Amex metric as provided in competition\n",
    "def amex_metric(y_true: pd.DataFrame, y_pred: pd.DataFrame) -> float:\n",
    "\n",
    "    def top_four_percent_captured(y_true: pd.DataFrame, y_pred: pd.DataFrame) -> float:\n",
    "        df = (pd.concat([y_true, y_pred], axis='columns')\n",
    "              .sort_values('prediction', ascending=False))\n",
    "        df['weight'] = df['target'].apply(lambda x: 20 if x==0 else 1)\n",
    "        four_pct_cutoff = int(0.04 * df['weight'].sum())\n",
    "        df['weight_cumsum'] = df['weight'].cumsum()\n",
    "        df_cutoff = df.loc[df['weight_cumsum'] <= four_pct_cutoff]\n",
    "        return (df_cutoff['target'] == 1).sum() / (df['target'] == 1).sum()\n",
    "        \n",
    "    def weighted_gini(y_true: pd.DataFrame, y_pred: pd.DataFrame) -> float:\n",
    "        df = (pd.concat([y_true, y_pred], axis='columns')\n",
    "              .sort_values('prediction', ascending=False))\n",
    "        df['weight'] = df['target'].apply(lambda x: 20 if x==0 else 1)\n",
    "        df['random'] = (df['weight'] / df['weight'].sum()).cumsum()\n",
    "        total_pos = (df['target'] * df['weight']).sum()\n",
    "        df['cum_pos_found'] = (df['target'] * df['weight']).cumsum()\n",
    "        df['lorentz'] = df['cum_pos_found'] / total_pos\n",
    "        df['gini'] = (df['lorentz'] - df['random']) * df['weight']\n",
    "        return df['gini'].sum()\n",
    "\n",
    "    def normalized_weighted_gini(y_true: pd.DataFrame, y_pred: pd.DataFrame) -> float:\n",
    "        y_true_pred = y_true.rename(columns={'target': 'prediction'})\n",
    "        return weighted_gini(y_true, y_pred) / weighted_gini(y_true, y_true_pred)\n",
    "\n",
    "    g = normalized_weighted_gini(y_true, y_pred)\n",
    "    d = top_four_percent_captured(y_true, y_pred)\n",
    "\n",
    "    return 0.5 * (g + d)"
   ]
  },
  {
   "cell_type": "code",
   "execution_count": 30,
   "id": "78646558",
   "metadata": {
    "execution": {
     "iopub.execute_input": "2023-01-16T07:20:18.715358Z",
     "iopub.status.busy": "2023-01-16T07:20:18.714347Z",
     "iopub.status.idle": "2023-01-16T07:20:18.720720Z",
     "shell.execute_reply": "2023-01-16T07:20:18.721305Z"
    },
    "papermill": {
     "duration": 0.044545,
     "end_time": "2023-01-16T07:20:18.721492",
     "exception": false,
     "start_time": "2023-01-16T07:20:18.676947",
     "status": "completed"
    },
    "tags": []
   },
   "outputs": [],
   "source": [
    "def plot_roc(y_true, y_score, label_name, ax):\n",
    "    fpr, tpr, thresholds = roc_curve(y_true, y_score)\n",
    "    ax.plot(fpr, tpr)\n",
    "    ax.plot([0, 1], [0, 1], color='grey', linestyle='--')\n",
    "    ax.set_ylabel('TPR')\n",
    "    ax.set_xlabel('FPR')\n",
    "    ax.set_title(\n",
    "        f\"{label_name}: AUC = {roc_auc_score(y_true, y_score):.4f}\"\n",
    "    )\n"
   ]
  },
  {
   "cell_type": "code",
   "execution_count": 31,
   "id": "579f4a5b",
   "metadata": {
    "execution": {
     "iopub.execute_input": "2023-01-16T07:20:18.798595Z",
     "iopub.status.busy": "2023-01-16T07:20:18.793779Z",
     "iopub.status.idle": "2023-01-16T07:20:18.801915Z",
     "shell.execute_reply": "2023-01-16T07:20:18.802418Z"
    },
    "papermill": {
     "duration": 0.046583,
     "end_time": "2023-01-16T07:20:18.802618",
     "exception": false,
     "start_time": "2023-01-16T07:20:18.756035",
     "status": "completed"
    },
    "tags": []
   },
   "outputs": [],
   "source": [
    "y_test1 = pd.DataFrame(y_test, columns=['target'])\n",
    "y_pred1 = pd.DataFrame(p, columns=['prediction'])"
   ]
  },
  {
   "cell_type": "code",
   "execution_count": 32,
   "id": "0c763b41",
   "metadata": {
    "execution": {
     "iopub.execute_input": "2023-01-16T07:20:18.876660Z",
     "iopub.status.busy": "2023-01-16T07:20:18.875439Z",
     "iopub.status.idle": "2023-01-16T07:20:20.721515Z",
     "shell.execute_reply": "2023-01-16T07:20:20.720943Z"
    },
    "papermill": {
     "duration": 1.884473,
     "end_time": "2023-01-16T07:20:20.721660",
     "exception": false,
     "start_time": "2023-01-16T07:20:18.837187",
     "status": "completed"
    },
    "tags": []
   },
   "outputs": [
    {
     "data": {
      "text/plain": [
       "-0.03327062932588106"
      ]
     },
     "execution_count": 32,
     "metadata": {},
     "output_type": "execute_result"
    }
   ],
   "source": [
    "amex_metric(y_test1,y_pred1)"
   ]
  },
  {
   "cell_type": "code",
   "execution_count": 33,
   "id": "e35fc034",
   "metadata": {
    "execution": {
     "iopub.execute_input": "2023-01-16T07:20:20.803570Z",
     "iopub.status.busy": "2023-01-16T07:20:20.802226Z",
     "iopub.status.idle": "2023-01-16T07:20:21.200580Z",
     "shell.execute_reply": "2023-01-16T07:20:21.199891Z"
    },
    "papermill": {
     "duration": 0.443547,
     "end_time": "2023-01-16T07:20:21.200777",
     "exception": false,
     "start_time": "2023-01-16T07:20:20.757230",
     "status": "completed"
    },
    "tags": []
   },
   "outputs": [
    {
     "data": {
      "image/png": "[encoded data removed]",
      "text/plain": [
       "<Figure size 720x576 with 1 Axes>"
      ]
     },
     "metadata": {
      "needs_background": "light"
     },
     "output_type": "display_data"
    }
   ],
   "source": [
    "fig, ax = plt.subplots(1, 1, figsize=(10, 8))\n",
    "plot_roc(\n",
    "    y_test, \n",
    "    p, \n",
    "    'y',\n",
    "    ax=ax\n",
    ")"
   ]
  },
  {
   "cell_type": "code",
   "execution_count": 34,
   "id": "5651cda1",
   "metadata": {
    "execution": {
     "iopub.execute_input": "2023-01-16T07:20:22.222181Z",
     "iopub.status.busy": "2023-01-16T07:20:21.590986Z",
     "iopub.status.idle": "2023-01-16T07:21:09.388129Z",
     "shell.execute_reply": "2023-01-16T07:21:09.387497Z"
    },
    "papermill": {
     "duration": 48.149686,
     "end_time": "2023-01-16T07:21:09.388300",
     "exception": false,
     "start_time": "2023-01-16T07:20:21.238614",
     "status": "completed"
    },
    "tags": []
   },
   "outputs": [],
   "source": [
    "predictions = final_model.predict_proba(test_dataset)\n",
    "predictions = predictions[:,1].reshape(-1,1)"
   ]
  },
  {
   "cell_type": "code",
   "execution_count": 35,
   "id": "87f513cc",
   "metadata": {
    "execution": {
     "iopub.execute_input": "2023-01-16T07:21:09.468757Z",
     "iopub.status.busy": "2023-01-16T07:21:09.467823Z",
     "iopub.status.idle": "2023-01-16T07:21:09.471210Z",
     "shell.execute_reply": "2023-01-16T07:21:09.471658Z"
    },
    "papermill": {
     "duration": 0.046633,
     "end_time": "2023-01-16T07:21:09.471854",
     "exception": false,
     "start_time": "2023-01-16T07:21:09.425221",
     "status": "completed"
    },
    "tags": []
   },
   "outputs": [
    {
     "data": {
      "text/plain": [
       "array([0.01645043, 0.00184129, 0.05727455, ..., 0.50241796, 0.19328664,\n",
       "       0.06862037])"
      ]
     },
     "execution_count": 35,
     "metadata": {},
     "output_type": "execute_result"
    }
   ],
   "source": [
    "predictions[:,0]"
   ]
  },
  {
   "cell_type": "code",
   "execution_count": 36,
   "id": "9ef4dd88",
   "metadata": {
    "execution": {
     "iopub.execute_input": "2023-01-16T07:21:09.548532Z",
     "iopub.status.busy": "2023-01-16T07:21:09.547871Z",
     "iopub.status.idle": "2023-01-16T07:21:15.622279Z",
     "shell.execute_reply": "2023-01-16T07:21:15.621288Z"
    },
    "papermill": {
     "duration": 6.113901,
     "end_time": "2023-01-16T07:21:15.622463",
     "exception": false,
     "start_time": "2023-01-16T07:21:09.508562",
     "status": "completed"
    },
    "tags": []
   },
   "outputs": [],
   "source": [
    "sample_dataset = pd.read_csv('/kaggle/input/amex-default-prediction/sample_submission.csv')\n",
    "output = pd.DataFrame({'customer_ID': sample_dataset.customer_ID, 'prediction': predictions[:,0]})\n",
    "output.to_csv('submission.csv', index=False)"
   ]
  }
 ],
 "metadata": {
  "kernelspec": {
   "display_name": "Python 3",
   "language": "python",
   "name": "python3"
  },
  "language_info": {
   "codemirror_mode": {
    "name": "ipython",
    "version": 3
   },
   "file_extension": ".py",
   "mimetype": "text/x-python",
   "name": "python",
   "nbconvert_exporter": "python",
   "pygments_lexer": "ipython3",
   "version": "3.7.10"
  },
  "papermill": {
   "default_parameters": {},
   "duration": 746.126777,
   "end_time": "2023-01-16T07:21:18.236987",
   "environment_variables": {},
   "exception": null,
   "input_path": "__notebook__.ipynb",
   "output_path": "__notebook__.ipynb",
   "parameters": {},
   "start_time": "2023-01-16T07:08:52.110210",
   "version": "2.3.3"
  }
 },
 "nbformat": 4,
 "nbformat_minor": 5
}
