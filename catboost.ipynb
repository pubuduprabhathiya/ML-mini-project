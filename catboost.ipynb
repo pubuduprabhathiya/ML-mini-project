{
 "cells": [
  {
   "cell_type": "code",
   "execution_count": 1,
   "id": "88a29e70",
   "metadata": {
    "_cell_guid": "b1076dfc-b9ad-4769-8c92-a6c4dae69d19",
    "_uuid": "8f2839f25d086af736a60e9eeb907d3b93b6e0e5",
    "execution": {
     "iopub.execute_input": "2023-01-16T17:56:55.102813Z",
     "iopub.status.busy": "2023-01-16T17:56:55.102064Z",
     "iopub.status.idle": "2023-01-16T17:56:56.433685Z",
     "shell.execute_reply": "2023-01-16T17:56:56.432301Z"
    },
    "papermill": {
     "duration": 1.347497,
     "end_time": "2023-01-16T17:56:56.437287",
     "exception": false,
     "start_time": "2023-01-16T17:56:55.089790",
     "status": "completed"
    },
    "tags": []
   },
   "outputs": [
    {
     "name": "stdout",
     "output_type": "stream",
     "text": [
      "/kaggle/input/amex-default-prediction/sample_submission.csv\n",
      "/kaggle/input/amex-default-prediction/train_data.csv\n",
      "/kaggle/input/amex-default-prediction/test_data.csv\n",
      "/kaggle/input/amex-default-prediction/train_labels.csv\n",
      "/kaggle/input/amexfeather/test_data_f32.ftr\n",
      "/kaggle/input/amexfeather/train_data.ftr\n",
      "/kaggle/input/amexfeather/train_data_f32.ftr\n",
      "/kaggle/input/amexfeather/test_data.ftr\n"
     ]
    }
   ],
   "source": [
    "import numpy as np\n",
    "import pandas as pd\n",
    "import seaborn as sns\n",
    "import matplotlib.pyplot as plt\n",
    "import gc\n",
    "\n",
    "import warnings\n",
    "warnings.filterwarnings(\"ignore\")\n",
    "\n",
    "import os\n",
    "for dirname, _, filenames in os.walk('/kaggle/input'):\n",
    "    for filename in filenames:\n",
    "        print(os.path.join(dirname, filename))"
   ]
  },
  {
   "cell_type": "code",
   "execution_count": 2,
   "id": "7a917c71",
   "metadata": {
    "execution": {
     "iopub.execute_input": "2023-01-16T17:56:56.456762Z",
     "iopub.status.busy": "2023-01-16T17:56:56.456223Z",
     "iopub.status.idle": "2023-01-16T17:57:19.565489Z",
     "shell.execute_reply": "2023-01-16T17:57:19.563828Z"
    },
    "papermill": {
     "duration": 23.122696,
     "end_time": "2023-01-16T17:57:19.568919",
     "exception": false,
     "start_time": "2023-01-16T17:56:56.446223",
     "status": "completed"
    },
    "tags": []
   },
   "outputs": [],
   "source": [
    "train_dataset_ = pd.read_feather('../input/amexfeather/train_data.ftr')\n",
    "train_dataset = train_dataset_.groupby('customer_ID').tail(1).set_index('customer_ID', drop=True).sort_index()"
   ]
  },
  {
   "cell_type": "code",
   "execution_count": 3,
   "id": "c7b22803",
   "metadata": {
    "execution": {
     "iopub.execute_input": "2023-01-16T17:57:19.588587Z",
     "iopub.status.busy": "2023-01-16T17:57:19.588062Z",
     "iopub.status.idle": "2023-01-16T17:57:19.743365Z",
     "shell.execute_reply": "2023-01-16T17:57:19.742297Z"
    },
    "papermill": {
     "duration": 0.171804,
     "end_time": "2023-01-16T17:57:19.749563",
     "exception": false,
     "start_time": "2023-01-16T17:57:19.577759",
     "status": "completed"
    },
    "tags": []
   },
   "outputs": [
    {
     "data": {
      "text/plain": [
       "21"
      ]
     },
     "execution_count": 3,
     "metadata": {},
     "output_type": "execute_result"
    }
   ],
   "source": [
    "del train_dataset_\n",
    "gc.collect()"
   ]
  },
  {
   "cell_type": "code",
   "execution_count": 4,
   "id": "3af95a7d",
   "metadata": {
    "execution": {
     "iopub.execute_input": "2023-01-16T17:57:19.777215Z",
     "iopub.status.busy": "2023-01-16T17:57:19.775673Z",
     "iopub.status.idle": "2023-01-16T17:57:19.785421Z",
     "shell.execute_reply": "2023-01-16T17:57:19.783848Z"
    },
    "papermill": {
     "duration": 0.0232,
     "end_time": "2023-01-16T17:57:19.788328",
     "exception": false,
     "start_time": "2023-01-16T17:57:19.765128",
     "status": "completed"
    },
    "tags": []
   },
   "outputs": [],
   "source": [
    "categorical_cols = ['B_30', 'B_38', 'D_114', 'D_116', 'D_117', 'D_120', 'D_126', 'D_63', 'D_64', 'D_66', 'D_68']\n",
    "num_cols = [col for col in train_dataset.columns if col not in categorical_cols + [\"target\"]]"
   ]
  },
  {
   "cell_type": "markdown",
   "id": "8f2b4eea",
   "metadata": {
    "papermill": {
     "duration": 0.00907,
     "end_time": "2023-01-16T17:57:19.806319",
     "exception": false,
     "start_time": "2023-01-16T17:57:19.797249",
     "status": "completed"
    },
    "tags": []
   },
   "source": [
    "# **feature engineering process**"
   ]
  },
  {
   "cell_type": "markdown",
   "id": "c16be075",
   "metadata": {
    "papermill": {
     "duration": 0.008961,
     "end_time": "2023-01-16T17:57:19.826448",
     "exception": false,
     "start_time": "2023-01-16T17:57:19.817487",
     "status": "completed"
    },
    "tags": []
   },
   "source": [
    "***Remove features that has lots of missing values***"
   ]
  },
  {
   "cell_type": "code",
   "execution_count": 5,
   "id": "f43e2f25",
   "metadata": {
    "execution": {
     "iopub.execute_input": "2023-01-16T17:57:19.847778Z",
     "iopub.status.busy": "2023-01-16T17:57:19.846858Z",
     "iopub.status.idle": "2023-01-16T17:57:20.175168Z",
     "shell.execute_reply": "2023-01-16T17:57:20.173720Z"
    },
    "papermill": {
     "duration": 0.34271,
     "end_time": "2023-01-16T17:57:20.178466",
     "exception": false,
     "start_time": "2023-01-16T17:57:19.835756",
     "status": "completed"
    },
    "tags": []
   },
   "outputs": [],
   "source": [
    "train_dataset = train_dataset.drop(['S_2','D_66','D_42','D_49','D_73','D_76','R_9','B_29','D_87','D_88','D_106','R_26','D_108','D_110','D_111','B_39','B_42','D_132','D_134','D_135','D_136','D_137','D_138','D_142'], axis=1)"
   ]
  },
  {
   "cell_type": "code",
   "execution_count": 6,
   "id": "91aca6f9",
   "metadata": {
    "execution": {
     "iopub.execute_input": "2023-01-16T17:57:20.199103Z",
     "iopub.status.busy": "2023-01-16T17:57:20.198613Z",
     "iopub.status.idle": "2023-01-16T17:57:22.081854Z",
     "shell.execute_reply": "2023-01-16T17:57:22.080389Z"
    },
    "papermill": {
     "duration": 1.897917,
     "end_time": "2023-01-16T17:57:22.085339",
     "exception": false,
     "start_time": "2023-01-16T17:57:20.187422",
     "status": "completed"
    },
    "tags": []
   },
   "outputs": [],
   "source": [
    "selected_col = np.array(['P_2','S_3','B_2','D_41','D_43','B_3','D_44','D_45','D_46','D_48','D_50','D_53','S_7','D_56','S_9','B_6','B_8','D_52','P_3','D_54','D_55','B_13','D_59','D_61','B_15','D_62','B_16','B_17','D_77','B_19','B_20','D_69','B_22','D_70','D_72','D_74','R_7','B_25','B_26','D_78','D_79','D_80','B_27','D_81','R_12','D_82','D_105','S_27','D_83','R_14','D_84','D_86','R_20','B_33','D_89','D_91','S_22','S_23','S_24','S_25','S_26','D_102','D_103','D_104','D_107','B_37','R_27','D_109','D_112','B_40','D_113','D_115','D_118','D_119','D_121','D_122','D_123','D_124','D_125','D_128','D_129','B_41','D_130','D_131','D_133','D_139','D_140','D_141','D_143','D_144','D_145'])\n",
    "\n",
    "for col in selected_col:\n",
    "    train_dataset[col] = train_dataset[col].fillna(train_dataset[col].median())"
   ]
  },
  {
   "cell_type": "code",
   "execution_count": 7,
   "id": "58153eb8",
   "metadata": {
    "execution": {
     "iopub.execute_input": "2023-01-16T17:57:22.105713Z",
     "iopub.status.busy": "2023-01-16T17:57:22.105237Z",
     "iopub.status.idle": "2023-01-16T17:57:22.166468Z",
     "shell.execute_reply": "2023-01-16T17:57:22.165053Z"
    },
    "papermill": {
     "duration": 0.075499,
     "end_time": "2023-01-16T17:57:22.169942",
     "exception": false,
     "start_time": "2023-01-16T17:57:22.094443",
     "status": "completed"
    },
    "tags": []
   },
   "outputs": [],
   "source": [
    "selcted_col2 = np.array(['D_68','B_30','B_38','D_64','D_114','D_116','D_117','D_120','D_126'])\n",
    "\n",
    "for col2 in selcted_col2:\n",
    "    train_dataset[col2] =  train_dataset[col2].fillna(train_dataset[col2].mode()[0])"
   ]
  },
  {
   "cell_type": "code",
   "execution_count": 8,
   "id": "6efece4c",
   "metadata": {
    "execution": {
     "iopub.execute_input": "2023-01-16T17:57:22.191363Z",
     "iopub.status.busy": "2023-01-16T17:57:22.190867Z",
     "iopub.status.idle": "2023-01-16T17:58:08.455898Z",
     "shell.execute_reply": "2023-01-16T17:58:08.448584Z"
    },
    "papermill": {
     "duration": 46.290868,
     "end_time": "2023-01-16T17:58:08.470571",
     "exception": false,
     "start_time": "2023-01-16T17:57:22.179703",
     "status": "completed"
    },
    "tags": []
   },
   "outputs": [],
   "source": [
    "test_dataset_ = pd.read_feather('../input/amexfeather/test_data.ftr')\n",
    "test_dataset = test_dataset_.groupby('customer_ID').tail(1).set_index('customer_ID', drop=True).sort_index()"
   ]
  },
  {
   "cell_type": "code",
   "execution_count": 9,
   "id": "09e56dae",
   "metadata": {
    "execution": {
     "iopub.execute_input": "2023-01-16T17:58:08.496579Z",
     "iopub.status.busy": "2023-01-16T17:58:08.495982Z",
     "iopub.status.idle": "2023-01-16T17:58:08.733253Z",
     "shell.execute_reply": "2023-01-16T17:58:08.731825Z"
    },
    "papermill": {
     "duration": 0.252153,
     "end_time": "2023-01-16T17:58:08.736404",
     "exception": false,
     "start_time": "2023-01-16T17:58:08.484251",
     "status": "completed"
    },
    "tags": []
   },
   "outputs": [
    {
     "data": {
      "text/plain": [
       "21"
      ]
     },
     "execution_count": 9,
     "metadata": {},
     "output_type": "execute_result"
    }
   ],
   "source": [
    "del test_dataset_\n",
    "gc.collect()"
   ]
  },
  {
   "cell_type": "code",
   "execution_count": 10,
   "id": "d9e2899f",
   "metadata": {
    "execution": {
     "iopub.execute_input": "2023-01-16T17:58:08.760698Z",
     "iopub.status.busy": "2023-01-16T17:58:08.760149Z",
     "iopub.status.idle": "2023-01-16T17:58:09.813158Z",
     "shell.execute_reply": "2023-01-16T17:58:09.812002Z"
    },
    "papermill": {
     "duration": 1.069115,
     "end_time": "2023-01-16T17:58:09.816912",
     "exception": false,
     "start_time": "2023-01-16T17:58:08.747797",
     "status": "completed"
    },
    "tags": []
   },
   "outputs": [],
   "source": [
    "test_dataset = test_dataset.drop(['S_2','D_42','D_49','D_66','D_73','D_76','R_9','B_29','D_87','D_88','D_106','R_26','D_108','D_110','D_111','B_39','B_42','D_132','D_134','D_135','D_136','D_137','D_138','D_142'], axis=1)"
   ]
  },
  {
   "cell_type": "markdown",
   "id": "dfe1b874",
   "metadata": {
    "papermill": {
     "duration": 0.01065,
     "end_time": "2023-01-16T17:58:09.838865",
     "exception": false,
     "start_time": "2023-01-16T17:58:09.828215",
     "status": "completed"
    },
    "tags": []
   },
   "source": [
    "***Imputation***"
   ]
  },
  {
   "cell_type": "code",
   "execution_count": 11,
   "id": "41ae990b",
   "metadata": {
    "execution": {
     "iopub.execute_input": "2023-01-16T17:58:09.875775Z",
     "iopub.status.busy": "2023-01-16T17:58:09.874312Z",
     "iopub.status.idle": "2023-01-16T17:58:13.762389Z",
     "shell.execute_reply": "2023-01-16T17:58:13.760466Z"
    },
    "papermill": {
     "duration": 3.917275,
     "end_time": "2023-01-16T17:58:13.767130",
     "exception": false,
     "start_time": "2023-01-16T17:58:09.849855",
     "status": "completed"
    },
    "tags": []
   },
   "outputs": [],
   "source": [
    "selected_column = np.array(['P_2','S_3','B_2','D_41','D_43','B_3','D_44','D_45','D_46','D_48','D_50','D_53','S_7','D_56','S_9','S_12','S_17','B_6','B_8','D_52','P_3','D_54','D_55','B_13','D_59','D_61','B_15','D_62','B_16','B_17','D_77','B_19','B_20','D_69','B_22','D_70','D_72','D_74','R_7','B_25','B_26','D_78','D_79','D_80','B_27','D_81','R_12','D_82','D_105','S_27','D_83','R_14','D_84','D_86','R_20','B_33','D_89','D_91','S_22','S_23','S_24','S_25','S_26','D_102','D_103','D_104','D_107','B_37','R_27','D_109','D_112','B_40','D_113','D_115','D_118','D_119','D_121','D_122','D_123','D_124','D_125','D_128','D_129','B_41','D_130','D_131','D_133','D_139','D_140','D_141','D_143','D_144','D_145'])\n",
    "\n",
    "for column in selected_column:\n",
    "    test_dataset[column] = test_dataset[column].fillna(test_dataset[column].median())"
   ]
  },
  {
   "cell_type": "code",
   "execution_count": 12,
   "id": "6ad53134",
   "metadata": {
    "execution": {
     "iopub.execute_input": "2023-01-16T17:58:13.793162Z",
     "iopub.status.busy": "2023-01-16T17:58:13.792590Z",
     "iopub.status.idle": "2023-01-16T17:58:13.888243Z",
     "shell.execute_reply": "2023-01-16T17:58:13.885288Z"
    },
    "papermill": {
     "duration": 0.114627,
     "end_time": "2023-01-16T17:58:13.894611",
     "exception": false,
     "start_time": "2023-01-16T17:58:13.779984",
     "status": "completed"
    },
    "tags": []
   },
   "outputs": [],
   "source": [
    "selected_column2 = np.array(['D_68','B_30','B_38','D_114','D_116','D_117','D_120','D_126'])\n",
    "\n",
    "for column2 in selected_column2:\n",
    "    test_dataset[column2] =  test_dataset[column2].fillna(test_dataset[column2].mode()[0])"
   ]
  },
  {
   "cell_type": "code",
   "execution_count": 13,
   "id": "be7810a4",
   "metadata": {
    "execution": {
     "iopub.execute_input": "2023-01-16T17:58:13.929656Z",
     "iopub.status.busy": "2023-01-16T17:58:13.929162Z",
     "iopub.status.idle": "2023-01-16T17:58:13.934909Z",
     "shell.execute_reply": "2023-01-16T17:58:13.933476Z"
    },
    "papermill": {
     "duration": 0.020823,
     "end_time": "2023-01-16T17:58:13.937830",
     "exception": false,
     "start_time": "2023-01-16T17:58:13.917007",
     "status": "completed"
    },
    "tags": []
   },
   "outputs": [],
   "source": [
    "categorical_cols.remove('D_66')"
   ]
  },
  {
   "cell_type": "markdown",
   "id": "6ed4b829",
   "metadata": {
    "papermill": {
     "duration": 0.010976,
     "end_time": "2023-01-16T17:58:13.960190",
     "exception": false,
     "start_time": "2023-01-16T17:58:13.949214",
     "status": "completed"
    },
    "tags": []
   },
   "source": [
    "***Remove highly corelated features***"
   ]
  },
  {
   "cell_type": "code",
   "execution_count": 14,
   "id": "8bd77b8e",
   "metadata": {
    "execution": {
     "iopub.execute_input": "2023-01-16T17:58:13.984456Z",
     "iopub.status.busy": "2023-01-16T17:58:13.983628Z",
     "iopub.status.idle": "2023-01-16T17:58:45.885781Z",
     "shell.execute_reply": "2023-01-16T17:58:45.884311Z"
    },
    "papermill": {
     "duration": 31.923265,
     "end_time": "2023-01-16T17:58:45.894296",
     "exception": false,
     "start_time": "2023-01-16T17:58:13.971031",
     "status": "completed"
    },
    "tags": []
   },
   "outputs": [
    {
     "data": {
      "text/plain": [
       "{'B_11',\n",
       " 'B_13',\n",
       " 'B_15',\n",
       " 'B_23',\n",
       " 'B_33',\n",
       " 'B_37',\n",
       " 'D_104',\n",
       " 'D_119',\n",
       " 'D_141',\n",
       " 'D_143',\n",
       " 'D_74',\n",
       " 'D_75',\n",
       " 'D_77',\n",
       " 'S_24',\n",
       " 'S_7'}"
      ]
     },
     "execution_count": 14,
     "metadata": {},
     "output_type": "execute_result"
    }
   ],
   "source": [
    "train_dataset_without_target = train_dataset.drop([\"target\"],axis=1)\n",
    "\n",
    "cor_matrix = train_dataset_without_target.corr()\n",
    "col_core = set()\n",
    "\n",
    "for i in range(len(cor_matrix.columns)):\n",
    "    for j in range(i):\n",
    "        if(cor_matrix.iloc[i, j] > 0.9):\n",
    "            col_name = cor_matrix.columns[i]\n",
    "            col_core.add(col_name)\n",
    "col_core"
   ]
  },
  {
   "cell_type": "code",
   "execution_count": 15,
   "id": "aecffc65",
   "metadata": {
    "execution": {
     "iopub.execute_input": "2023-01-16T17:58:45.915588Z",
     "iopub.status.busy": "2023-01-16T17:58:45.914368Z",
     "iopub.status.idle": "2023-01-16T17:58:47.150062Z",
     "shell.execute_reply": "2023-01-16T17:58:47.148857Z"
    },
    "papermill": {
     "duration": 1.249643,
     "end_time": "2023-01-16T17:58:47.153065",
     "exception": false,
     "start_time": "2023-01-16T17:58:45.903422",
     "status": "completed"
    },
    "tags": []
   },
   "outputs": [],
   "source": [
    "train_dataset = train_dataset.drop(col_core, axis=1)\n",
    "test_dataset = test_dataset.drop(col_core, axis=1)"
   ]
  },
  {
   "cell_type": "code",
   "execution_count": 16,
   "id": "3a1cf559",
   "metadata": {
    "execution": {
     "iopub.execute_input": "2023-01-16T17:58:47.174264Z",
     "iopub.status.busy": "2023-01-16T17:58:47.173801Z",
     "iopub.status.idle": "2023-01-16T17:58:47.182680Z",
     "shell.execute_reply": "2023-01-16T17:58:47.181571Z"
    },
    "papermill": {
     "duration": 0.023014,
     "end_time": "2023-01-16T17:58:47.185773",
     "exception": false,
     "start_time": "2023-01-16T17:58:47.162759",
     "status": "completed"
    },
    "tags": []
   },
   "outputs": [],
   "source": [
    "y = train_dataset.pop('target')\n"
   ]
  },
  {
   "cell_type": "code",
   "execution_count": 17,
   "id": "526bad20",
   "metadata": {
    "execution": {
     "iopub.execute_input": "2023-01-16T17:58:47.207392Z",
     "iopub.status.busy": "2023-01-16T17:58:47.206536Z",
     "iopub.status.idle": "2023-01-16T17:58:47.212643Z",
     "shell.execute_reply": "2023-01-16T17:58:47.211261Z"
    },
    "papermill": {
     "duration": 0.019671,
     "end_time": "2023-01-16T17:58:47.215058",
     "exception": false,
     "start_time": "2023-01-16T17:58:47.195387",
     "status": "completed"
    },
    "tags": []
   },
   "outputs": [
    {
     "name": "stdout",
     "output_type": "stream",
     "text": [
      "X shape is = (458913, 150)\n",
      "Y shape is = (458913,)\n"
     ]
    }
   ],
   "source": [
    "print(f\"X shape is = {train_dataset.shape}\" )\n",
    "print(f\"Y shape is = {y.shape}\" )"
   ]
  },
  {
   "cell_type": "code",
   "execution_count": 18,
   "id": "0a02a10e",
   "metadata": {
    "execution": {
     "iopub.execute_input": "2023-01-16T17:58:47.236855Z",
     "iopub.status.busy": "2023-01-16T17:58:47.235968Z",
     "iopub.status.idle": "2023-01-16T17:58:53.966472Z",
     "shell.execute_reply": "2023-01-16T17:58:53.965046Z"
    },
    "papermill": {
     "duration": 6.744963,
     "end_time": "2023-01-16T17:58:53.969743",
     "exception": false,
     "start_time": "2023-01-16T17:58:47.224780",
     "status": "completed"
    },
    "tags": []
   },
   "outputs": [],
   "source": [
    "categorical_cols=[\"D_63\",\"D_64\",\"D_68\",\"B_30\",\"B_38\",\"D_114\",\"D_116\",\"D_117\",\"D_120\",\"D_126\"]\n",
    "for col in categorical_cols:\n",
    "    train_dataset[col] =train_dataset[col].astype(str)\n",
    "    test_dataset[col] =test_dataset[col].astype(str)"
   ]
  },
  {
   "cell_type": "code",
   "execution_count": 19,
   "id": "724c0b41",
   "metadata": {
    "execution": {
     "iopub.execute_input": "2023-01-16T17:58:53.992009Z",
     "iopub.status.busy": "2023-01-16T17:58:53.991055Z",
     "iopub.status.idle": "2023-01-16T17:58:54.564631Z",
     "shell.execute_reply": "2023-01-16T17:58:54.563289Z"
    },
    "papermill": {
     "duration": 0.588004,
     "end_time": "2023-01-16T17:58:54.567803",
     "exception": false,
     "start_time": "2023-01-16T17:58:53.979799",
     "status": "completed"
    },
    "tags": []
   },
   "outputs": [],
   "source": [
    "from sklearn.model_selection import train_test_split\n",
    "from catboost import CatBoostClassifier\n",
    "from catboost import Pool, cv"
   ]
  },
  {
   "cell_type": "markdown",
   "id": "6ce1fa9c",
   "metadata": {
    "papermill": {
     "duration": 0.009786,
     "end_time": "2023-01-16T17:58:54.587374",
     "exception": false,
     "start_time": "2023-01-16T17:58:54.577588",
     "status": "completed"
    },
    "tags": []
   },
   "source": [
    "# **Methodology**"
   ]
  },
  {
   "cell_type": "markdown",
   "id": "be8e2fb0",
   "metadata": {
    "papermill": {
     "duration": 0.009435,
     "end_time": "2023-01-16T17:58:54.606729",
     "exception": false,
     "start_time": "2023-01-16T17:58:54.597294",
     "status": "completed"
    },
    "tags": []
   },
   "source": [
    "***splitting 70-30 of training-testing samples***"
   ]
  },
  {
   "cell_type": "code",
   "execution_count": 20,
   "id": "3565f30b",
   "metadata": {
    "execution": {
     "iopub.execute_input": "2023-01-16T17:58:54.628101Z",
     "iopub.status.busy": "2023-01-16T17:58:54.627608Z",
     "iopub.status.idle": "2023-01-16T17:58:56.471523Z",
     "shell.execute_reply": "2023-01-16T17:58:56.469979Z"
    },
    "papermill": {
     "duration": 1.858783,
     "end_time": "2023-01-16T17:58:56.475108",
     "exception": false,
     "start_time": "2023-01-16T17:58:54.616325",
     "status": "completed"
    },
    "tags": []
   },
   "outputs": [],
   "source": [
    "X_train, X_test, y_train, y_test = train_test_split( train_dataset, y, test_size=0.3, random_state=68)"
   ]
  },
  {
   "cell_type": "code",
   "execution_count": 21,
   "id": "a14ae000",
   "metadata": {
    "execution": {
     "iopub.execute_input": "2023-01-16T17:58:56.497133Z",
     "iopub.status.busy": "2023-01-16T17:58:56.496671Z",
     "iopub.status.idle": "2023-01-16T17:59:12.168678Z",
     "shell.execute_reply": "2023-01-16T17:59:12.167550Z"
    },
    "papermill": {
     "duration": 15.68676,
     "end_time": "2023-01-16T17:59:12.171771",
     "exception": false,
     "start_time": "2023-01-16T17:58:56.485011",
     "status": "completed"
    },
    "tags": []
   },
   "outputs": [],
   "source": [
    "train_dataset_pool = Pool(data=X_train,\n",
    "                     label=y_train,\n",
    "                     cat_features = categorical_cols)"
   ]
  },
  {
   "cell_type": "code",
   "execution_count": 22,
   "id": "9c490bb0",
   "metadata": {
    "execution": {
     "iopub.execute_input": "2023-01-16T17:59:12.194261Z",
     "iopub.status.busy": "2023-01-16T17:59:12.193493Z",
     "iopub.status.idle": "2023-01-16T17:59:12.204059Z",
     "shell.execute_reply": "2023-01-16T17:59:12.203019Z"
    },
    "papermill": {
     "duration": 0.024953,
     "end_time": "2023-01-16T17:59:12.206794",
     "exception": false,
     "start_time": "2023-01-16T17:59:12.181841",
     "status": "completed"
    },
    "tags": []
   },
   "outputs": [],
   "source": [
    "final_model = CatBoostClassifier(verbose=100,  cat_features=categorical_cols)"
   ]
  },
  {
   "cell_type": "code",
   "execution_count": 23,
   "id": "97b65edb",
   "metadata": {
    "execution": {
     "iopub.execute_input": "2023-01-16T17:59:12.228627Z",
     "iopub.status.busy": "2023-01-16T17:59:12.227886Z",
     "iopub.status.idle": "2023-01-16T18:07:45.990950Z",
     "shell.execute_reply": "2023-01-16T18:07:45.989675Z"
    },
    "papermill": {
     "duration": 513.788576,
     "end_time": "2023-01-16T18:07:46.005131",
     "exception": false,
     "start_time": "2023-01-16T17:59:12.216555",
     "status": "completed"
    },
    "tags": []
   },
   "outputs": [
    {
     "name": "stdout",
     "output_type": "stream",
     "text": [
      "Learning rate set to 0.121157\n",
      "0:\tlearn: 0.5587618\ttotal: 728ms\tremaining: 12m 7s\n",
      "100:\tlearn: 0.2259755\ttotal: 51.3s\tremaining: 7m 36s\n",
      "200:\tlearn: 0.2178817\ttotal: 1m 41s\tremaining: 6m 41s\n",
      "300:\tlearn: 0.2122613\ttotal: 2m 30s\tremaining: 5m 50s\n",
      "400:\tlearn: 0.2076218\ttotal: 3m 20s\tremaining: 4m 59s\n",
      "500:\tlearn: 0.2030819\ttotal: 4m 10s\tremaining: 4m 9s\n",
      "600:\tlearn: 0.1987579\ttotal: 5m\tremaining: 3m 19s\n",
      "700:\tlearn: 0.1944985\ttotal: 5m 49s\tremaining: 2m 29s\n",
      "800:\tlearn: 0.1907509\ttotal: 6m 39s\tremaining: 1m 39s\n",
      "900:\tlearn: 0.1868905\ttotal: 7m 28s\tremaining: 49.3s\n",
      "999:\tlearn: 0.1831784\ttotal: 8m 17s\tremaining: 0us\n"
     ]
    },
    {
     "data": {
      "text/plain": [
       "<catboost.core.CatBoostClassifier at 0x7f02cf84c510>"
      ]
     },
     "execution_count": 23,
     "metadata": {},
     "output_type": "execute_result"
    }
   ],
   "source": [
    "final_model.fit(X_train, y_train)"
   ]
  },
  {
   "cell_type": "code",
   "execution_count": 24,
   "id": "60c2b2a2",
   "metadata": {
    "execution": {
     "iopub.execute_input": "2023-01-16T18:07:46.029957Z",
     "iopub.status.busy": "2023-01-16T18:07:46.029139Z",
     "iopub.status.idle": "2023-01-16T18:07:52.565727Z",
     "shell.execute_reply": "2023-01-16T18:07:52.564334Z"
    },
    "papermill": {
     "duration": 6.55339,
     "end_time": "2023-01-16T18:07:52.569466",
     "exception": false,
     "start_time": "2023-01-16T18:07:46.016076",
     "status": "completed"
    },
    "tags": []
   },
   "outputs": [],
   "source": [
    "p = final_model.predict_proba(X_test)"
   ]
  },
  {
   "cell_type": "code",
   "execution_count": 25,
   "id": "f80f422a",
   "metadata": {
    "execution": {
     "iopub.execute_input": "2023-01-16T18:07:52.594351Z",
     "iopub.status.busy": "2023-01-16T18:07:52.593375Z",
     "iopub.status.idle": "2023-01-16T18:07:52.599987Z",
     "shell.execute_reply": "2023-01-16T18:07:52.598595Z"
    },
    "papermill": {
     "duration": 0.021309,
     "end_time": "2023-01-16T18:07:52.602350",
     "exception": false,
     "start_time": "2023-01-16T18:07:52.581041",
     "status": "completed"
    },
    "tags": []
   },
   "outputs": [],
   "source": [
    "from sklearn.metrics import roc_curve, roc_auc_score\n"
   ]
  },
  {
   "cell_type": "code",
   "execution_count": 26,
   "id": "c7406eca",
   "metadata": {
    "execution": {
     "iopub.execute_input": "2023-01-16T18:07:52.626554Z",
     "iopub.status.busy": "2023-01-16T18:07:52.625989Z",
     "iopub.status.idle": "2023-01-16T18:07:52.632383Z",
     "shell.execute_reply": "2023-01-16T18:07:52.631064Z"
    },
    "papermill": {
     "duration": 0.02159,
     "end_time": "2023-01-16T18:07:52.635082",
     "exception": false,
     "start_time": "2023-01-16T18:07:52.613492",
     "status": "completed"
    },
    "tags": []
   },
   "outputs": [],
   "source": [
    "\n",
    "p = p[:,1].reshape(-1,1)"
   ]
  },
  {
   "cell_type": "code",
   "execution_count": null,
   "id": "8e9054b9",
   "metadata": {
    "papermill": {
     "duration": 0.010561,
     "end_time": "2023-01-16T18:07:52.656694",
     "exception": false,
     "start_time": "2023-01-16T18:07:52.646133",
     "status": "completed"
    },
    "tags": []
   },
   "outputs": [],
   "source": []
  },
  {
   "cell_type": "code",
   "execution_count": 27,
   "id": "bfd385cc",
   "metadata": {
    "execution": {
     "iopub.execute_input": "2023-01-16T18:07:52.681110Z",
     "iopub.status.busy": "2023-01-16T18:07:52.680287Z",
     "iopub.status.idle": "2023-01-16T18:07:52.746297Z",
     "shell.execute_reply": "2023-01-16T18:07:52.745006Z"
    },
    "papermill": {
     "duration": 0.081535,
     "end_time": "2023-01-16T18:07:52.749297",
     "exception": false,
     "start_time": "2023-01-16T18:07:52.667762",
     "status": "completed"
    },
    "tags": []
   },
   "outputs": [
    {
     "data": {
      "text/plain": [
       "0.9584836516551164"
      ]
     },
     "execution_count": 27,
     "metadata": {},
     "output_type": "execute_result"
    }
   ],
   "source": [
    "roc_auc_score(y_test, p)"
   ]
  },
  {
   "cell_type": "code",
   "execution_count": 28,
   "id": "83c7401d",
   "metadata": {
    "execution": {
     "iopub.execute_input": "2023-01-16T18:07:52.775430Z",
     "iopub.status.busy": "2023-01-16T18:07:52.773877Z",
     "iopub.status.idle": "2023-01-16T18:07:52.792746Z",
     "shell.execute_reply": "2023-01-16T18:07:52.790015Z"
    },
    "papermill": {
     "duration": 0.037731,
     "end_time": "2023-01-16T18:07:52.798542",
     "exception": false,
     "start_time": "2023-01-16T18:07:52.760811",
     "status": "completed"
    },
    "tags": []
   },
   "outputs": [],
   "source": [
    "#Amex metric as provided in competition\n",
    "def amex_metric(y_true: pd.DataFrame, y_pred: pd.DataFrame) -> float:\n",
    "\n",
    "    def top_four_percent_captured(y_true: pd.DataFrame, y_pred: pd.DataFrame) -> float:\n",
    "        df = (pd.concat([y_true, y_pred], axis='columns')\n",
    "              .sort_values('prediction', ascending=False))\n",
    "        df['weight'] = df['target'].apply(lambda x: 20 if x==0 else 1)\n",
    "        four_pct_cutoff = int(0.04 * df['weight'].sum())\n",
    "        df['weight_cumsum'] = df['weight'].cumsum()\n",
    "        df_cutoff = df.loc[df['weight_cumsum'] <= four_pct_cutoff]\n",
    "        return (df_cutoff['target'] == 1).sum() / (df['target'] == 1).sum()\n",
    "        \n",
    "    def weighted_gini(y_true: pd.DataFrame, y_pred: pd.DataFrame) -> float:\n",
    "        df = (pd.concat([y_true, y_pred], axis='columns')\n",
    "              .sort_values('prediction', ascending=False))\n",
    "        df['weight'] = df['target'].apply(lambda x: 20 if x==0 else 1)\n",
    "        df['random'] = (df['weight'] / df['weight'].sum()).cumsum()\n",
    "        total_pos = (df['target'] * df['weight']).sum()\n",
    "        df['cum_pos_found'] = (df['target'] * df['weight']).cumsum()\n",
    "        df['lorentz'] = df['cum_pos_found'] / total_pos\n",
    "        df['gini'] = (df['lorentz'] - df['random']) * df['weight']\n",
    "        return df['gini'].sum()\n",
    "\n",
    "    def normalized_weighted_gini(y_true: pd.DataFrame, y_pred: pd.DataFrame) -> float:\n",
    "        y_true_pred = y_true.rename(columns={'target': 'prediction'})\n",
    "        return weighted_gini(y_true, y_pred) / weighted_gini(y_true, y_true_pred)\n",
    "\n",
    "    g = normalized_weighted_gini(y_true, y_pred)\n",
    "    d = top_four_percent_captured(y_true, y_pred)\n",
    "\n",
    "    return 0.5 * (g + d)"
   ]
  },
  {
   "cell_type": "code",
   "execution_count": 29,
   "id": "8e5ec1cd",
   "metadata": {
    "execution": {
     "iopub.execute_input": "2023-01-16T18:07:52.825549Z",
     "iopub.status.busy": "2023-01-16T18:07:52.824876Z",
     "iopub.status.idle": "2023-01-16T18:07:52.834415Z",
     "shell.execute_reply": "2023-01-16T18:07:52.833439Z"
    },
    "papermill": {
     "duration": 0.025764,
     "end_time": "2023-01-16T18:07:52.837109",
     "exception": false,
     "start_time": "2023-01-16T18:07:52.811345",
     "status": "completed"
    },
    "tags": []
   },
   "outputs": [],
   "source": [
    "def plot_roc(y_true, y_score, label_name, ax):\n",
    "    fpr, tpr, thresholds = roc_curve(y_true, y_score)\n",
    "    ax.plot(fpr, tpr)\n",
    "    ax.plot([0, 1], [0, 1], color='grey', linestyle='--')\n",
    "    ax.set_ylabel('TPR')\n",
    "    ax.set_xlabel('FPR')\n",
    "    ax.set_title(\n",
    "        f\"{label_name}: AUC = {roc_auc_score(y_true, y_score):.4f}\"\n",
    "    )\n"
   ]
  },
  {
   "cell_type": "code",
   "execution_count": 30,
   "id": "a2c2f66b",
   "metadata": {
    "execution": {
     "iopub.execute_input": "2023-01-16T18:07:52.874814Z",
     "iopub.status.busy": "2023-01-16T18:07:52.873691Z",
     "iopub.status.idle": "2023-01-16T18:07:52.884981Z",
     "shell.execute_reply": "2023-01-16T18:07:52.883214Z"
    },
    "papermill": {
     "duration": 0.032832,
     "end_time": "2023-01-16T18:07:52.888956",
     "exception": false,
     "start_time": "2023-01-16T18:07:52.856124",
     "status": "completed"
    },
    "tags": []
   },
   "outputs": [],
   "source": [
    "y_test1 = pd.DataFrame(y_test, columns=['target'])\n",
    "y_pred1 = pd.DataFrame(p, columns=['prediction'])"
   ]
  },
  {
   "cell_type": "code",
   "execution_count": 31,
   "id": "2dc23cb9",
   "metadata": {
    "execution": {
     "iopub.execute_input": "2023-01-16T18:07:52.915920Z",
     "iopub.status.busy": "2023-01-16T18:07:52.915081Z",
     "iopub.status.idle": "2023-01-16T18:07:54.417751Z",
     "shell.execute_reply": "2023-01-16T18:07:54.416422Z"
    },
    "papermill": {
     "duration": 1.519029,
     "end_time": "2023-01-16T18:07:54.420610",
     "exception": false,
     "start_time": "2023-01-16T18:07:52.901581",
     "status": "completed"
    },
    "tags": []
   },
   "outputs": [
    {
     "data": {
      "text/plain": [
       "-0.03327062932588106"
      ]
     },
     "execution_count": 31,
     "metadata": {},
     "output_type": "execute_result"
    }
   ],
   "source": [
    "amex_metric(y_test1,y_pred1)"
   ]
  },
  {
   "cell_type": "code",
   "execution_count": 32,
   "id": "ef4ce8fa",
   "metadata": {
    "execution": {
     "iopub.execute_input": "2023-01-16T18:07:54.445686Z",
     "iopub.status.busy": "2023-01-16T18:07:54.445216Z",
     "iopub.status.idle": "2023-01-16T18:07:54.821769Z",
     "shell.execute_reply": "2023-01-16T18:07:54.820458Z"
    },
    "papermill": {
     "duration": 0.393036,
     "end_time": "2023-01-16T18:07:54.825129",
     "exception": false,
     "start_time": "2023-01-16T18:07:54.432093",
     "status": "completed"
    },
    "tags": []
   },
   "outputs": [
    {
     "data": {
      "image/png": "[encoded data removed]",
      "text/plain": [
       "<Figure size 720x576 with 1 Axes>"
      ]
     },
     "metadata": {
      "needs_background": "light"
     },
     "output_type": "display_data"
    }
   ],
   "source": [
    "fig, ax = plt.subplots(1, 1, figsize=(10, 8))\n",
    "plot_roc(\n",
    "    y_test, \n",
    "    p, \n",
    "    'y',\n",
    "    ax=ax\n",
    ")"
   ]
  },
  {
   "cell_type": "code",
   "execution_count": 33,
   "id": "80aa14e1",
   "metadata": {
    "execution": {
     "iopub.execute_input": "2023-01-16T18:07:54.852966Z",
     "iopub.status.busy": "2023-01-16T18:07:54.851557Z",
     "iopub.status.idle": "2023-01-16T18:08:14.737913Z",
     "shell.execute_reply": "2023-01-16T18:08:14.736362Z"
    },
    "papermill": {
     "duration": 19.903401,
     "end_time": "2023-01-16T18:08:14.741159",
     "exception": false,
     "start_time": "2023-01-16T18:07:54.837758",
     "status": "completed"
    },
    "tags": []
   },
   "outputs": [],
   "source": [
    "train_dataset_final = Pool(data=train_dataset,\n",
    "                     label=y,\n",
    "                     cat_features = categorical_cols)"
   ]
  },
  {
   "cell_type": "code",
   "execution_count": 34,
   "id": "d3f71f58",
   "metadata": {
    "execution": {
     "iopub.execute_input": "2023-01-16T18:08:14.768654Z",
     "iopub.status.busy": "2023-01-16T18:08:14.768147Z",
     "iopub.status.idle": "2023-01-16T18:20:36.967862Z",
     "shell.execute_reply": "2023-01-16T18:20:36.965943Z"
    },
    "papermill": {
     "duration": 742.228948,
     "end_time": "2023-01-16T18:20:36.983156",
     "exception": false,
     "start_time": "2023-01-16T18:08:14.754208",
     "status": "completed"
    },
    "tags": []
   },
   "outputs": [
    {
     "name": "stdout",
     "output_type": "stream",
     "text": [
      "Learning rate set to 0.141089\n",
      "0:\tlearn: 0.5450742\ttotal: 1.18s\tremaining: 19m 43s\n",
      "100:\tlearn: 0.2255907\ttotal: 1m 18s\tremaining: 11m 34s\n",
      "200:\tlearn: 0.2185165\ttotal: 2m 29s\tremaining: 9m 56s\n",
      "300:\tlearn: 0.2137864\ttotal: 3m 40s\tremaining: 8m 32s\n",
      "400:\tlearn: 0.2096374\ttotal: 4m 53s\tremaining: 7m 18s\n",
      "500:\tlearn: 0.2058599\ttotal: 6m 3s\tremaining: 6m 2s\n",
      "600:\tlearn: 0.2022970\ttotal: 7m 13s\tremaining: 4m 47s\n",
      "700:\tlearn: 0.1989025\ttotal: 8m 24s\tremaining: 3m 35s\n",
      "800:\tlearn: 0.1955753\ttotal: 9m 36s\tremaining: 2m 23s\n",
      "900:\tlearn: 0.1922438\ttotal: 10m 48s\tremaining: 1m 11s\n",
      "999:\tlearn: 0.1889712\ttotal: 11m 58s\tremaining: 0us\n"
     ]
    },
    {
     "data": {
      "text/plain": [
       "<catboost.core.CatBoostClassifier at 0x7f02cf84c510>"
      ]
     },
     "execution_count": 34,
     "metadata": {},
     "output_type": "execute_result"
    }
   ],
   "source": [
    "final_model.fit(train_dataset, y)"
   ]
  },
  {
   "cell_type": "code",
   "execution_count": 35,
   "id": "1d9e3fe6",
   "metadata": {
    "execution": {
     "iopub.execute_input": "2023-01-16T18:20:37.013882Z",
     "iopub.status.busy": "2023-01-16T18:20:37.013308Z",
     "iopub.status.idle": "2023-01-16T18:21:22.509396Z",
     "shell.execute_reply": "2023-01-16T18:21:22.507999Z"
    },
    "papermill": {
     "duration": 45.515947,
     "end_time": "2023-01-16T18:21:22.512876",
     "exception": false,
     "start_time": "2023-01-16T18:20:36.996929",
     "status": "completed"
    },
    "tags": []
   },
   "outputs": [],
   "source": [
    "predictions = final_model.predict_proba(test_dataset)\n",
    "predictions = predictions[:,1].reshape(-1,1)"
   ]
  },
  {
   "cell_type": "code",
   "execution_count": 36,
   "id": "266aa044",
   "metadata": {
    "execution": {
     "iopub.execute_input": "2023-01-16T18:21:22.543159Z",
     "iopub.status.busy": "2023-01-16T18:21:22.542579Z",
     "iopub.status.idle": "2023-01-16T18:21:22.552246Z",
     "shell.execute_reply": "2023-01-16T18:21:22.550890Z"
    },
    "papermill": {
     "duration": 0.027958,
     "end_time": "2023-01-16T18:21:22.554917",
     "exception": false,
     "start_time": "2023-01-16T18:21:22.526959",
     "status": "completed"
    },
    "tags": []
   },
   "outputs": [
    {
     "data": {
      "text/plain": [
       "array([0.02321478, 0.00141484, 0.03684264, ..., 0.47722894, 0.24877477,\n",
       "       0.06591422])"
      ]
     },
     "execution_count": 36,
     "metadata": {},
     "output_type": "execute_result"
    }
   ],
   "source": [
    "predictions[:,0]"
   ]
  },
  {
   "cell_type": "code",
   "execution_count": 37,
   "id": "7ca103f4",
   "metadata": {
    "execution": {
     "iopub.execute_input": "2023-01-16T18:21:22.583818Z",
     "iopub.status.busy": "2023-01-16T18:21:22.583337Z",
     "iopub.status.idle": "2023-01-16T18:21:28.406396Z",
     "shell.execute_reply": "2023-01-16T18:21:28.404904Z"
    },
    "papermill": {
     "duration": 5.841424,
     "end_time": "2023-01-16T18:21:28.409691",
     "exception": false,
     "start_time": "2023-01-16T18:21:22.568267",
     "status": "completed"
    },
    "tags": []
   },
   "outputs": [],
   "source": [
    "sample_dataset = pd.read_csv('/kaggle/input/amex-default-prediction/sample_submission.csv')\n",
    "output = pd.DataFrame({'customer_ID': sample_dataset.customer_ID, 'prediction': predictions[:,0]})\n",
    "output.to_csv('submission.csv', index=False)"
   ]
  }
 ],
 "metadata": {
  "kernelspec": {
   "display_name": "Python 3",
   "language": "python",
   "name": "python3"
  },
  "language_info": {
   "codemirror_mode": {
    "name": "ipython",
    "version": 3
   },
   "file_extension": ".py",
   "mimetype": "text/x-python",
   "name": "python",
   "nbconvert_exporter": "python",
   "pygments_lexer": "ipython3",
   "version": "3.7.12"
  },
  "papermill": {
   "default_parameters": {},
   "duration": 1487.108114,
   "end_time": "2023-01-16T18:21:30.662606",
   "environment_variables": {},
   "exception": null,
   "input_path": "__notebook__.ipynb",
   "output_path": "__notebook__.ipynb",
   "parameters": {},
   "start_time": "2023-01-16T17:56:43.554492",
   "version": "2.3.4"
  }
 },
 "nbformat": 4,
 "nbformat_minor": 5
}
